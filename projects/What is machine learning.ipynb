{
 "cells": [
  {
   "cell_type": "markdown",
   "metadata": {},
   "source": [
    "# Machine learning "
   ]
  },
  {
   "cell_type": "markdown",
   "metadata": {},
   "source": [
    "### In traditional programing Input + Program gives Output\n",
    "### In machine learning Input + output gives program"
   ]
  },
  {
   "cell_type": "markdown",
   "metadata": {},
   "source": [
    "## Machine learning - Formal definition\n",
    "\n",
    "### A computer or a machine program is said to learn from experience(E)\n",
    "### with respect to some class of tasks(T) and performance measure(P) if its\n",
    "### perofrmance at tasks in T as measured by P improves with experience E\n",
    "\n",
    "### An example(Tic-Tac-Toe):\n",
    "### E: Experience of playing many games\n",
    "### T: Task of playing Tic-Tac-Toe\n",
    "### P: Percentage of wins\n",
    "\n",
    "## Applications of Machine learning\n",
    "### Finanace, Health care , virtual Assistance, ecommerce, Social media,Automation"
   ]
  },
  {
   "cell_type": "markdown",
   "metadata": {},
   "source": [
    "# Types of Machine learning:\n",
    "### We can broadly classify machine learning into three different types : \n",
    "                 1.Supervised learning\n",
    "                 2.unsuperb=vised learning\n",
    "                 3.Reinforcement learning\n",
    "\n",
    "### 1. Supervised learning:\n",
    "       If the machine is being told to learn by giving inputs and the expected output then it is called supervised learning \n",
    "       It is called supervised because the expected outputs is also provided as as input\n",
    "    \n",
    "### 2.Unsupervised learning:\n",
    "        I the machine is learning to differentiate different inputs without any information what they are that is without a label then it is called unsupervised machine learning\n",
    "        \n",
    "### 3.Reinforcement learning:\n",
    "        If the machine is learning to perform the task by train and error where each succesful try results in a reward and a wrong try results in a punishment it is called Reinforcement learning"
   ]
  },
  {
   "cell_type": "markdown",
   "metadata": {},
   "source": [
    "### We can also catogorize machine learning techniques based on the type of output\n",
    "### Catogorization -Output:\n",
    "    1.Regression\n",
    "    2.Classification\n",
    "    3.Clustering\n",
    "    \n",
    "### 1. Regression:\n",
    "        Regression is a technique used to model the relationships between variable.Some commonly used regressions are linear regression logistic and polynomial regression.\n",
    "        Regression a simple and well understood technique.But the real world techniques are limited compared to other techniques\n",
    "    \n",
    "### 2. Classification:\n",
    "        Classification is a technique of giving correct label to objects from a set of possible labels.\n",
    "        Classification is used to classify images.\n",
    "     \n",
    "### 3. Clustering:\n",
    "        Clustering is a techinque where a sample from the data is placed in a cluster such that all the samples in the cluster are similar to each other\n",
    "        Clustering can be supervised or unsupervised.\n",
    "        Clustering can be used to detect anamolies thus it is used to fraud detection."
   ]
  },
  {
   "cell_type": "markdown",
   "metadata": {},
   "source": [
    "## Machine learning - Terminology and pipeline\n",
    "### Key terms of Machine Learning\n",
    "    Some of the important terms are model,feature, target, training and predictions.\n",
    "#### Features:\n",
    "    It is important to choose the feature such that those features can be used to distinguish one data example from another\n",
    "    .Measurable property of a data object\n",
    "    .Used as the input variables from the data to make necessary predictions\n",
    "    .choosing distiguishimg and independent features is crucial\n",
    "    The features are in the form of a vector generally called as feature vector\n",
    "    \n",
    "#### Target:\n",
    "    The target or the lable is the expected output for the given set of features.\n",
    "    The target or label is present when we use supervised learning techniques where the models needs a label for each example of the data to learn to predict the correct target value or a label\n",
    "    .Value to be predicted using machine learning \n",
    "    .Desired outcome of the machine learning\n",
    "    \n",
    "#### Model:\n",
    "    A model is a hypothesis that defines the relationship between the features and the target\n",
    "    The term model is used to abstractaway the details of the mathematics of the machine learning algorithm.\n",
    "    The process where the model uses the dataset to learn to predict the output is called training\n",
    "    \n",
    "#### Training:\n",
    "    .Expose the model to fetaures and Expected Targets\n",
    "    .Learn the relationship between the labels and the features\n",
    "\n",
    "#### Prediction:\n",
    "    .Apply the model to new unseen data\n",
    "    .Predict the Target/Lables based in the data."
   ]
  },
  {
   "cell_type": "markdown",
   "metadata": {},
   "source": [
    "# Tools for Machine learning\n",
    "we can catogorize the tools into three catogories.They are\n",
    "    Programming --> Python , Anaconda, Jupyter\n",
    "    Data handling and visualization --> Numpy, pandas , matplotlib\n",
    "    Machine learning libraries--> scikit-learn, Tensor folw, Kears\n",
    "    \n",
    "### Programming language:\n",
    "    Python:\n",
    "    .High level\n",
    "    .Object orieneted Progamming\n",
    "    .Beginner Friendly\n",
    "    .Data Handling is simplier\n",
    "    .Open source packages specifically for ML\n",
    "    we will use python as the progrmming language.\n",
    "    Pyhton has been th primary choice for using machine learning beacause it is beginner friendly and easy to read.\n",
    "    Because of its high level nature the time to get a working program is reduced significantly compared to languages such as java or c++\n",
    "    Python as a rich collection of modules in addition to that there are vast number of open source \n",
    "\n",
    "### Anaconda:\n",
    "    .Free and open source distribution of python\n",
    "    .Packages for scientific computing\n",
    "    .Ml and Data science Libraries out of the box\n",
    "### Jupyter lab:\n",
    "    .Web interface for pyhton and R programming language\n",
    "    .Literate programming \n",
    "    .Easy to read text with code blocks   "
   ]
  },
  {
   "cell_type": "markdown",
   "metadata": {},
   "source": [
    "### Data Handling in python:\n",
    "    1.Numpy:\n",
    "        .Math library for pyhton\n",
    "        .Multi-dimensionel array as a datatype\n",
    "        .High level mathematical functions and array operations\n",
    "    2. Pandas:\n",
    "        .Python library to handle large datasets\n",
    "        .Data structures and built in functions to hanlde data oopertaions\n",
    "        .Reading and writing data from and to spreedsheets\n",
    "    3.Matplotlib:\n",
    "        .Pyhton library for plotting operations\n",
    "        .Easy to generate a variety of graphs "
   ]
  },
  {
   "cell_type": "markdown",
   "metadata": {},
   "source": [
    "## Machine learning Libraries:\n",
    "    1.Scikit learn:\n",
    "    .Python based ML library\n",
    "    .Libraries for supervised and unsupervised ML algoriths\n",
    "    .Easy to implement ML pipelines as all the required functions are in built \n",
    "    .Built on numpy scipy and matplotlib\n",
    "    scikit learn is a highly popular machine learning library\n",
    "    It provides tools out of the box many machine learning tasks such as supervised learning and unsupervised learning methods, data preprocessing methods, implementarion of various algorithms, metrics for evaluating a machine learning models etc.,\n",
    "    This librabry provides a consistent API acress all its modules making it eaiser to try different approches to solving a problem. This librabry is built using numpy, scipy and matplotlib\n",
    "    \n",
    "    2. Tensor flow:\n",
    "        .ML Framework for high end ML problems\n",
    "        .Excellent functionality for deep learning\n",
    "        .Parallel Neural Network Training\n",
    "       \n",
    "    3. Keras:\n",
    "        .High level API built on Tensorflow\n",
    "        .Rapid NN Prototyping\n",
    "        .Lacks as many advanced oopertaions as tensorflow\n",
    "        .It can work with theano cntk etc.\n",
    "        .Keras can also work with other libraries as backend instead of tensorflow."
   ]
  },
  {
   "cell_type": "code",
   "execution_count": null,
   "metadata": {},
   "outputs": [],
   "source": [
    "a"
   ]
  }
 ],
 "metadata": {
  "kernelspec": {
   "display_name": "Python 3",
   "language": "python",
   "name": "python3"
  },
  "language_info": {
   "codemirror_mode": {
    "name": "ipython",
    "version": 3
   },
   "file_extension": ".py",
   "mimetype": "text/x-python",
   "name": "python",
   "nbconvert_exporter": "python",
   "pygments_lexer": "ipython3",
   "version": "3.7.5"
  }
 },
 "nbformat": 4,
 "nbformat_minor": 4
}
